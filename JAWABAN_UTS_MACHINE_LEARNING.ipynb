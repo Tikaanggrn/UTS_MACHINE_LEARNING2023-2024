{
  "nbformat": 4,
  "nbformat_minor": 0,
  "metadata": {
    "colab": {
      "provenance": [],
      "authorship_tag": "ABX9TyPgtEg5QFpBqJQJAYCvgLw/",
      "include_colab_link": true
    },
    "kernelspec": {
      "name": "python3",
      "display_name": "Python 3"
    },
    "language_info": {
      "name": "python"
    }
  },
  "cells": [
    {
      "cell_type": "markdown",
      "metadata": {
        "id": "view-in-github",
        "colab_type": "text"
      },
      "source": [
        "<a href=\"https://colab.research.google.com/github/Tikaanggrn/UTS_MACHINE_LEARNING2023-2024/blob/main/JAWABAN_UTS_MACHINE_LEARNING.ipynb\" target=\"_parent\"><img src=\"https://colab.research.google.com/assets/colab-badge.svg\" alt=\"Open In Colab\"/></a>"
      ]
    },
    {
      "cell_type": "code",
      "execution_count": null,
      "metadata": {
        "colab": {
          "base_uri": "https://localhost:8080/"
        },
        "id": "0PrpDl88dRho",
        "outputId": "cc1ac74a-f48d-49b6-d488-43f6e39d7ae4"
      },
      "outputs": [
        {
          "output_type": "stream",
          "name": "stdout",
          "text": [
            "Collecting kneed\n",
            "  Downloading kneed-0.8.5-py3-none-any.whl (10 kB)\n",
            "Requirement already satisfied: numpy>=1.14.2 in /usr/local/lib/python3.10/dist-packages (from kneed) (1.23.5)\n",
            "Requirement already satisfied: scipy>=1.0.0 in /usr/local/lib/python3.10/dist-packages (from kneed) (1.11.3)\n",
            "Installing collected packages: kneed\n",
            "Successfully installed kneed-0.8.5\n"
          ]
        }
      ],
      "source": [
        "# Importing libraries\n",
        "!pip install --upgrade kneed\n",
        "\n",
        "import numpy as np\n",
        "import pandas as pd\n",
        "\n",
        "from sklearn.preprocessing import StandardScaler\n",
        "from sklearn.preprocessing import MinMaxScaler\n",
        "from sklearn.impute import SimpleImputer\n",
        "from sklearn.metrics import classification_report, silhouette_score\n",
        "from sklearn.model_selection import train_test_split\n",
        "from matplotlib import pyplot as plt\n",
        "from sklearn import tree\n",
        "from kneed import KneeLocator\n",
        "from sklearn.cluster import KMeans\n",
        "from sklearn.tree import DecisionTreeClassifier\n",
        "from sklearn.model_selection import train_test_split\n",
        "from sklearn.metrics import confusion_matrix, accuracy_score"
      ]
    },
    {
      "cell_type": "markdown",
      "source": [
        "Soal No.2"
      ],
      "metadata": {
        "id": "dfRMl0riftb_"
      }
    },
    {
      "cell_type": "code",
      "source": [
        "# Memisahkan bagian atribut prediktor dengan label data menjadi dua variabel terpisah\n",
        "url = \"https://raw.githubusercontent.com/isnanmulia/lecture-datasets/main/mobileprice_modified.csv\"\n",
        "data = pd.read_csv(url)\n",
        "\n",
        "# Memisahkan atribut prediktor (fitur) dari label data\n",
        "X = data.drop(columns=['price_range'])\n",
        "y = data['price_range']"
      ],
      "metadata": {
        "id": "mz-8GWDefwip"
      },
      "execution_count": null,
      "outputs": []
    },
    {
      "cell_type": "code",
      "source": [
        "# Menangani missing values dengan SimpleImputer (strategi: median)\n",
        "imputer = SimpleImputer(strategy='median')\n",
        "X_imputed = imputer.fit_transform(X)"
      ],
      "metadata": {
        "id": "gA_1Mgc4f30f"
      },
      "execution_count": null,
      "outputs": []
    },
    {
      "cell_type": "code",
      "source": [
        "# Inisialisasi MinMaxScaler\n",
        "scaler = MinMaxScaler()\n",
        "\n",
        "# Menerapkan MinMaxScaler pada atribut prediktor (fitur)\n",
        "X = scaler.fit_transform(X)"
      ],
      "metadata": {
        "id": "fV0qIgQyf7nK"
      },
      "execution_count": null,
      "outputs": []
    },
    {
      "cell_type": "code",
      "source": [
        "# Menerapkan StandardScaler untuk standarisasi atribut prediktor\n",
        "scaler = StandardScaler()\n",
        "X_scaled = scaler.fit_transform(X_imputed)"
      ],
      "metadata": {
        "id": "6W1PbJhtgA2K"
      },
      "execution_count": null,
      "outputs": []
    },
    {
      "cell_type": "code",
      "source": [
        "# Menampilkan statistik deskriptif sebelum preprocessing\n",
        "print(\"Statistik Deskriptif Sebelum Preprocessing:\")\n",
        "print(pd.DataFrame(X, columns=data.columns.drop('price_range')).describe())\n",
        "\n",
        "# Menampilkan statistik deskriptif setelah pengisian Missing Values dan standarisasi\n",
        "print(\"\\nStatistik Deskriptif Setelah Pengisian Missing Values dan Standarisasi:\")\n",
        "print(pd.DataFrame(X_scaled, columns=data.columns.drop('price_range')).describe())"
      ],
      "metadata": {
        "colab": {
          "base_uri": "https://localhost:8080/"
        },
        "id": "6b5yfdhCgEXL",
        "outputId": "b2235098-7cd8-4f06-ee21-18ccf0eba22d"
      },
      "execution_count": null,
      "outputs": [
        {
          "output_type": "stream",
          "name": "stdout",
          "text": [
            "Statistik Deskriptif Sebelum Preprocessing:\n",
            "       battery_power       blue  clock_speed     dual_sim           fc  \\\n",
            "count    1990.000000  2000.0000  2000.000000  2000.000000  2000.000000   \n",
            "mean        0.492230     0.4950     0.408900     0.509500     0.226816   \n",
            "std         0.293705     0.5001     0.326402     0.500035     0.228497   \n",
            "min         0.000000     0.0000     0.000000     0.000000     0.000000   \n",
            "25%         0.233300     0.0000     0.080000     0.000000     0.052632   \n",
            "50%         0.483634     0.0000     0.400000     1.000000     0.157895   \n",
            "75%         0.744155     1.0000     0.680000     1.000000     0.368421   \n",
            "max         1.000000     1.0000     1.000000     1.000000     1.000000   \n",
            "\n",
            "            four_g   int_memory        m_dep    mobile_wt      n_cores  \\\n",
            "count  2000.000000  1990.000000  2000.000000  1990.000000  2000.000000   \n",
            "mean      0.521500     0.483676     0.446389     0.502869     0.502929   \n",
            "std       0.499662     0.292523     0.320462     0.295059     0.326834   \n",
            "min       0.000000     0.000000     0.000000     0.000000     0.000000   \n",
            "25%       0.000000     0.225806     0.111111     0.241667     0.285714   \n",
            "50%       1.000000     0.483871     0.444444     0.508333     0.428571   \n",
            "75%       1.000000     0.741935     0.777778     0.750000     0.857143   \n",
            "max       1.000000     1.000000     1.000000     1.000000     1.000000   \n",
            "\n",
            "                pc    px_height     px_width          ram         sc_h  \\\n",
            "count  2000.000000  2000.000000  2000.000000  1990.000000  2000.000000   \n",
            "mean      0.495825     0.329137     0.501679     0.499463     0.521893   \n",
            "std       0.303216     0.226419     0.288518     0.289921     0.300946   \n",
            "min       0.000000     0.000000     0.000000     0.000000     0.000000   \n",
            "25%       0.250000     0.144260     0.250167     0.254476     0.285714   \n",
            "50%       0.500000     0.287755     0.498665     0.505211     0.500000   \n",
            "75%       0.750000     0.483291     0.756342     0.750802     0.785714   \n",
            "max       1.000000     1.000000     1.000000     1.000000     1.000000   \n",
            "\n",
            "              sc_w    talk_time      three_g  touch_screen         wifi  \n",
            "count  2000.000000  2000.000000  2000.000000   2000.000000  2000.000000  \n",
            "mean      0.320389     0.500611     0.761500      0.503000     0.507000  \n",
            "std       0.242022     0.303553     0.426273      0.500116     0.500076  \n",
            "min       0.000000     0.000000     0.000000      0.000000     0.000000  \n",
            "25%       0.111111     0.222222     1.000000      0.000000     0.000000  \n",
            "50%       0.277778     0.500000     1.000000      1.000000     1.000000  \n",
            "75%       0.500000     0.777778     1.000000      1.000000     1.000000  \n",
            "max       1.000000     1.000000     1.000000      1.000000     1.000000  \n",
            "\n",
            "Statistik Deskriptif Setelah Pengisian Missing Values dan Standarisasi:\n",
            "       battery_power          blue   clock_speed      dual_sim            fc  \\\n",
            "count   2.000000e+03  2.000000e+03  2.000000e+03  2.000000e+03  2.000000e+03   \n",
            "mean    2.842171e-17 -1.243450e-17 -1.545430e-16  8.082424e-17  5.861978e-17   \n",
            "std     1.000250e+00  1.000250e+00  1.000250e+00  1.000250e+00  1.000250e+00   \n",
            "min    -1.680411e+00 -9.900495e-01 -1.253064e+00 -1.019184e+00 -9.928904e-01   \n",
            "25%    -8.804636e-01 -9.900495e-01 -1.007906e+00 -1.019184e+00 -7.624947e-01   \n",
            "50%    -2.920066e-02 -9.900495e-01 -2.727384e-02  9.811771e-01 -3.017032e-01   \n",
            "75%     8.579829e-01  1.010051e+00  8.307794e-01  9.811771e-01  6.198797e-01   \n",
            "max     1.733763e+00  1.010051e+00  1.811412e+00  9.811771e-01  3.384628e+00   \n",
            "\n",
            "             four_g    int_memory         m_dep     mobile_wt       n_cores  \\\n",
            "count  2.000000e+03  2.000000e+03  2.000000e+03  2.000000e+03  2.000000e+03   \n",
            "mean   1.048051e-16  3.197442e-17 -1.030287e-16  8.881784e-17 -7.727152e-17   \n",
            "std    1.000250e+00  1.000250e+00  1.000250e+00  1.000250e+00  1.000250e+00   \n",
            "min   -1.043966e+00 -1.658034e+00 -1.393304e+00 -1.709094e+00 -1.539175e+00   \n",
            "25%   -1.043966e+00 -8.839751e-01 -1.046495e+00 -8.877887e-01 -6.647678e-01   \n",
            "50%    9.578860e-01  6.634789e-04 -6.069151e-03  1.847937e-02 -2.275644e-01   \n",
            "75%    9.578860e-01  8.853020e-01  1.034357e+00  8.397848e-01  1.084046e+00   \n",
            "max    9.578860e-01  1.769941e+00  1.727974e+00  1.689411e+00  1.521249e+00   \n",
            "\n",
            "                 pc     px_height      px_width           ram          sc_h  \\\n",
            "count  2.000000e+03  2.000000e+03  2.000000e+03  2.000000e+03  2.000000e+03   \n",
            "mean   1.403322e-16  1.181277e-16  6.084022e-17  1.740830e-16  4.884981e-17   \n",
            "std    1.000250e+00  1.000250e+00  1.000250e+00  1.000250e+00  1.000250e+00   \n",
            "min   -1.635631e+00 -1.454027e+00 -1.739251e+00 -1.727610e+00 -1.734608e+00   \n",
            "25%   -8.109291e-01 -8.167289e-01 -8.719579e-01 -8.451340e-01 -7.849833e-01   \n",
            "50%    1.377252e-02 -1.828116e-01 -1.045034e-02  1.978050e-02 -7.276497e-02   \n",
            "75%    8.384742e-01  6.810064e-01  8.828792e-01  8.641293e-01  8.768595e-01   \n",
            "max    1.663176e+00  2.963672e+00  1.727608e+00  1.731123e+00  1.589078e+00   \n",
            "\n",
            "               sc_w     talk_time       three_g  touch_screen          wifi  \n",
            "count  2.000000e+03  2.000000e+03  2.000000e+03  2.000000e+03  2.000000e+03  \n",
            "mean  -5.506706e-17  1.421085e-16  1.421085e-17 -5.417888e-17  1.421085e-17  \n",
            "std    1.000250e+00  1.000250e+00  1.000250e+00  1.000250e+00  1.000250e+00  \n",
            "min   -1.324131e+00 -1.649584e+00 -1.786861e+00 -1.006018e+00 -1.014099e+00  \n",
            "25%   -8.649215e-01 -9.173306e-01  5.596406e-01 -1.006018e+00 -1.014099e+00  \n",
            "50%   -1.761069e-01 -2.013697e-03  5.596406e-01  9.940179e-01  9.860966e-01  \n",
            "75%    7.423125e-01  9.133032e-01  5.596406e-01  9.940179e-01  9.860966e-01  \n",
            "max    2.808756e+00  1.645557e+00  5.596406e-01  9.940179e-01  9.860966e-01  \n"
          ]
        }
      ]
    },
    {
      "cell_type": "markdown",
      "source": [
        "Soal No.3"
      ],
      "metadata": {
        "id": "FPmAZM1qgGoR"
      }
    },
    {
      "cell_type": "code",
      "source": [
        "# Memisahkan atribut prediktor (X_scaled) dari label data (y)\n",
        "X_train, X_test, y_train, y_test = train_test_split(X_scaled, y, test_size=0.2, random_state=42)"
      ],
      "metadata": {
        "id": "niQ4YQvZgKaH"
      },
      "execution_count": null,
      "outputs": []
    },
    {
      "cell_type": "code",
      "source": [
        "# Inisialisasi model Decision Tree\n",
        "model = DecisionTreeClassifier(random_state=42)\n",
        "\n",
        "# Latih model pada data pelatihan\n",
        "model.fit(X_train, y_train)\n"
      ],
      "metadata": {
        "colab": {
          "base_uri": "https://localhost:8080/",
          "height": 75
        },
        "id": "afK-xS5wgRWX",
        "outputId": "e23fda75-363b-4b22-914b-9795ce7d51df"
      },
      "execution_count": null,
      "outputs": [
        {
          "output_type": "execute_result",
          "data": {
            "text/plain": [
              "DecisionTreeClassifier(random_state=42)"
            ],
            "text/html": [
              "<style>#sk-container-id-1 {color: black;background-color: white;}#sk-container-id-1 pre{padding: 0;}#sk-container-id-1 div.sk-toggleable {background-color: white;}#sk-container-id-1 label.sk-toggleable__label {cursor: pointer;display: block;width: 100%;margin-bottom: 0;padding: 0.3em;box-sizing: border-box;text-align: center;}#sk-container-id-1 label.sk-toggleable__label-arrow:before {content: \"▸\";float: left;margin-right: 0.25em;color: #696969;}#sk-container-id-1 label.sk-toggleable__label-arrow:hover:before {color: black;}#sk-container-id-1 div.sk-estimator:hover label.sk-toggleable__label-arrow:before {color: black;}#sk-container-id-1 div.sk-toggleable__content {max-height: 0;max-width: 0;overflow: hidden;text-align: left;background-color: #f0f8ff;}#sk-container-id-1 div.sk-toggleable__content pre {margin: 0.2em;color: black;border-radius: 0.25em;background-color: #f0f8ff;}#sk-container-id-1 input.sk-toggleable__control:checked~div.sk-toggleable__content {max-height: 200px;max-width: 100%;overflow: auto;}#sk-container-id-1 input.sk-toggleable__control:checked~label.sk-toggleable__label-arrow:before {content: \"▾\";}#sk-container-id-1 div.sk-estimator input.sk-toggleable__control:checked~label.sk-toggleable__label {background-color: #d4ebff;}#sk-container-id-1 div.sk-label input.sk-toggleable__control:checked~label.sk-toggleable__label {background-color: #d4ebff;}#sk-container-id-1 input.sk-hidden--visually {border: 0;clip: rect(1px 1px 1px 1px);clip: rect(1px, 1px, 1px, 1px);height: 1px;margin: -1px;overflow: hidden;padding: 0;position: absolute;width: 1px;}#sk-container-id-1 div.sk-estimator {font-family: monospace;background-color: #f0f8ff;border: 1px dotted black;border-radius: 0.25em;box-sizing: border-box;margin-bottom: 0.5em;}#sk-container-id-1 div.sk-estimator:hover {background-color: #d4ebff;}#sk-container-id-1 div.sk-parallel-item::after {content: \"\";width: 100%;border-bottom: 1px solid gray;flex-grow: 1;}#sk-container-id-1 div.sk-label:hover label.sk-toggleable__label {background-color: #d4ebff;}#sk-container-id-1 div.sk-serial::before {content: \"\";position: absolute;border-left: 1px solid gray;box-sizing: border-box;top: 0;bottom: 0;left: 50%;z-index: 0;}#sk-container-id-1 div.sk-serial {display: flex;flex-direction: column;align-items: center;background-color: white;padding-right: 0.2em;padding-left: 0.2em;position: relative;}#sk-container-id-1 div.sk-item {position: relative;z-index: 1;}#sk-container-id-1 div.sk-parallel {display: flex;align-items: stretch;justify-content: center;background-color: white;position: relative;}#sk-container-id-1 div.sk-item::before, #sk-container-id-1 div.sk-parallel-item::before {content: \"\";position: absolute;border-left: 1px solid gray;box-sizing: border-box;top: 0;bottom: 0;left: 50%;z-index: -1;}#sk-container-id-1 div.sk-parallel-item {display: flex;flex-direction: column;z-index: 1;position: relative;background-color: white;}#sk-container-id-1 div.sk-parallel-item:first-child::after {align-self: flex-end;width: 50%;}#sk-container-id-1 div.sk-parallel-item:last-child::after {align-self: flex-start;width: 50%;}#sk-container-id-1 div.sk-parallel-item:only-child::after {width: 0;}#sk-container-id-1 div.sk-dashed-wrapped {border: 1px dashed gray;margin: 0 0.4em 0.5em 0.4em;box-sizing: border-box;padding-bottom: 0.4em;background-color: white;}#sk-container-id-1 div.sk-label label {font-family: monospace;font-weight: bold;display: inline-block;line-height: 1.2em;}#sk-container-id-1 div.sk-label-container {text-align: center;}#sk-container-id-1 div.sk-container {/* jupyter's `normalize.less` sets `[hidden] { display: none; }` but bootstrap.min.css set `[hidden] { display: none !important; }` so we also need the `!important` here to be able to override the default hidden behavior on the sphinx rendered scikit-learn.org. See: https://github.com/scikit-learn/scikit-learn/issues/21755 */display: inline-block !important;position: relative;}#sk-container-id-1 div.sk-text-repr-fallback {display: none;}</style><div id=\"sk-container-id-1\" class=\"sk-top-container\"><div class=\"sk-text-repr-fallback\"><pre>DecisionTreeClassifier(random_state=42)</pre><b>In a Jupyter environment, please rerun this cell to show the HTML representation or trust the notebook. <br />On GitHub, the HTML representation is unable to render, please try loading this page with nbviewer.org.</b></div><div class=\"sk-container\" hidden><div class=\"sk-item\"><div class=\"sk-estimator sk-toggleable\"><input class=\"sk-toggleable__control sk-hidden--visually\" id=\"sk-estimator-id-1\" type=\"checkbox\" checked><label for=\"sk-estimator-id-1\" class=\"sk-toggleable__label sk-toggleable__label-arrow\">DecisionTreeClassifier</label><div class=\"sk-toggleable__content\"><pre>DecisionTreeClassifier(random_state=42)</pre></div></div></div></div></div>"
            ]
          },
          "metadata": {},
          "execution_count": 8
        }
      ]
    },
    {
      "cell_type": "code",
      "source": [
        "\n",
        "#Melakukan prediksi pada data pengujian\n",
        "y_pred = model.predict(X_test)"
      ],
      "metadata": {
        "id": "OvI8ZANTgXZC"
      },
      "execution_count": null,
      "outputs": []
    },
    {
      "cell_type": "code",
      "source": [
        "  # Menghitung confusion matrix\n",
        "cm = confusion_matrix(y_test, y_pred)\n",
        "\n",
        "# Menghitung akurasi\n",
        "accuracy = accuracy_score(y_test, y_pred)\n",
        "\n",
        "# Menampilkan confusion matrix\n",
        "print(\"Confusion Matrix:\")\n",
        "print(cm)\n",
        "\n",
        "# Menampilkan akurasi\n",
        "print(\"Akurasi: {:.2f}%\".format(accuracy * 100))"
      ],
      "metadata": {
        "colab": {
          "base_uri": "https://localhost:8080/"
        },
        "id": "4RnvIVJ2gZWj",
        "outputId": "93ef85fe-f8ee-40ac-bf2b-1857647dd395"
      },
      "execution_count": null,
      "outputs": [
        {
          "output_type": "stream",
          "name": "stdout",
          "text": [
            "Confusion Matrix:\n",
            "[[90 15  0  0]\n",
            " [ 5 74 12  0]\n",
            " [ 0 16 64 12]\n",
            " [ 0  0 13 99]]\n",
            "Akurasi: 81.75%\n"
          ]
        }
      ]
    },
    {
      "cell_type": "markdown",
      "source": [
        "Soal No.4"
      ],
      "metadata": {
        "id": "hBisqpuOggiY"
      }
    },
    {
      "cell_type": "code",
      "source": [
        "# Inisialisasi model K-Means dengan jumlah cluster yang diinginkan\n",
        "n_clusters = 4  # Misalnya, ingin 4 cluster\n",
        "kmeans = KMeans(n_clusters=n_clusters, random_state=42, n_init=10)\n",
        "\n",
        "# Latih model K-Means pada data\n",
        "kmeans.fit(X_scaled)\n"
      ],
      "metadata": {
        "colab": {
          "base_uri": "https://localhost:8080/",
          "height": 75
        },
        "id": "kHzARkDbg4JZ",
        "outputId": "aec74659-dedd-4079-9522-e783c040e4b3"
      },
      "execution_count": null,
      "outputs": [
        {
          "output_type": "execute_result",
          "data": {
            "text/plain": [
              "KMeans(n_clusters=4, n_init=10, random_state=42)"
            ],
            "text/html": [
              "<style>#sk-container-id-2 {color: black;background-color: white;}#sk-container-id-2 pre{padding: 0;}#sk-container-id-2 div.sk-toggleable {background-color: white;}#sk-container-id-2 label.sk-toggleable__label {cursor: pointer;display: block;width: 100%;margin-bottom: 0;padding: 0.3em;box-sizing: border-box;text-align: center;}#sk-container-id-2 label.sk-toggleable__label-arrow:before {content: \"▸\";float: left;margin-right: 0.25em;color: #696969;}#sk-container-id-2 label.sk-toggleable__label-arrow:hover:before {color: black;}#sk-container-id-2 div.sk-estimator:hover label.sk-toggleable__label-arrow:before {color: black;}#sk-container-id-2 div.sk-toggleable__content {max-height: 0;max-width: 0;overflow: hidden;text-align: left;background-color: #f0f8ff;}#sk-container-id-2 div.sk-toggleable__content pre {margin: 0.2em;color: black;border-radius: 0.25em;background-color: #f0f8ff;}#sk-container-id-2 input.sk-toggleable__control:checked~div.sk-toggleable__content {max-height: 200px;max-width: 100%;overflow: auto;}#sk-container-id-2 input.sk-toggleable__control:checked~label.sk-toggleable__label-arrow:before {content: \"▾\";}#sk-container-id-2 div.sk-estimator input.sk-toggleable__control:checked~label.sk-toggleable__label {background-color: #d4ebff;}#sk-container-id-2 div.sk-label input.sk-toggleable__control:checked~label.sk-toggleable__label {background-color: #d4ebff;}#sk-container-id-2 input.sk-hidden--visually {border: 0;clip: rect(1px 1px 1px 1px);clip: rect(1px, 1px, 1px, 1px);height: 1px;margin: -1px;overflow: hidden;padding: 0;position: absolute;width: 1px;}#sk-container-id-2 div.sk-estimator {font-family: monospace;background-color: #f0f8ff;border: 1px dotted black;border-radius: 0.25em;box-sizing: border-box;margin-bottom: 0.5em;}#sk-container-id-2 div.sk-estimator:hover {background-color: #d4ebff;}#sk-container-id-2 div.sk-parallel-item::after {content: \"\";width: 100%;border-bottom: 1px solid gray;flex-grow: 1;}#sk-container-id-2 div.sk-label:hover label.sk-toggleable__label {background-color: #d4ebff;}#sk-container-id-2 div.sk-serial::before {content: \"\";position: absolute;border-left: 1px solid gray;box-sizing: border-box;top: 0;bottom: 0;left: 50%;z-index: 0;}#sk-container-id-2 div.sk-serial {display: flex;flex-direction: column;align-items: center;background-color: white;padding-right: 0.2em;padding-left: 0.2em;position: relative;}#sk-container-id-2 div.sk-item {position: relative;z-index: 1;}#sk-container-id-2 div.sk-parallel {display: flex;align-items: stretch;justify-content: center;background-color: white;position: relative;}#sk-container-id-2 div.sk-item::before, #sk-container-id-2 div.sk-parallel-item::before {content: \"\";position: absolute;border-left: 1px solid gray;box-sizing: border-box;top: 0;bottom: 0;left: 50%;z-index: -1;}#sk-container-id-2 div.sk-parallel-item {display: flex;flex-direction: column;z-index: 1;position: relative;background-color: white;}#sk-container-id-2 div.sk-parallel-item:first-child::after {align-self: flex-end;width: 50%;}#sk-container-id-2 div.sk-parallel-item:last-child::after {align-self: flex-start;width: 50%;}#sk-container-id-2 div.sk-parallel-item:only-child::after {width: 0;}#sk-container-id-2 div.sk-dashed-wrapped {border: 1px dashed gray;margin: 0 0.4em 0.5em 0.4em;box-sizing: border-box;padding-bottom: 0.4em;background-color: white;}#sk-container-id-2 div.sk-label label {font-family: monospace;font-weight: bold;display: inline-block;line-height: 1.2em;}#sk-container-id-2 div.sk-label-container {text-align: center;}#sk-container-id-2 div.sk-container {/* jupyter's `normalize.less` sets `[hidden] { display: none; }` but bootstrap.min.css set `[hidden] { display: none !important; }` so we also need the `!important` here to be able to override the default hidden behavior on the sphinx rendered scikit-learn.org. See: https://github.com/scikit-learn/scikit-learn/issues/21755 */display: inline-block !important;position: relative;}#sk-container-id-2 div.sk-text-repr-fallback {display: none;}</style><div id=\"sk-container-id-2\" class=\"sk-top-container\"><div class=\"sk-text-repr-fallback\"><pre>KMeans(n_clusters=4, n_init=10, random_state=42)</pre><b>In a Jupyter environment, please rerun this cell to show the HTML representation or trust the notebook. <br />On GitHub, the HTML representation is unable to render, please try loading this page with nbviewer.org.</b></div><div class=\"sk-container\" hidden><div class=\"sk-item\"><div class=\"sk-estimator sk-toggleable\"><input class=\"sk-toggleable__control sk-hidden--visually\" id=\"sk-estimator-id-2\" type=\"checkbox\" checked><label for=\"sk-estimator-id-2\" class=\"sk-toggleable__label sk-toggleable__label-arrow\">KMeans</label><div class=\"sk-toggleable__content\"><pre>KMeans(n_clusters=4, n_init=10, random_state=42)</pre></div></div></div></div></div>"
            ]
          },
          "metadata": {},
          "execution_count": 13
        }
      ]
    },
    {
      "cell_type": "code",
      "source": [
        "# Melakukan prediksi cluster pada data\n",
        "cluster_labels = kmeans.predict(X_scaled)\n"
      ],
      "metadata": {
        "id": "ecIg90KQhFR3"
      },
      "execution_count": null,
      "outputs": []
    },
    {
      "cell_type": "code",
      "source": [
        "# Mendapatkan label cluster untuk setiap sampel\n",
        "cluster_labels = kmeans.labels_"
      ],
      "metadata": {
        "id": "Bpdc5A-IhI90"
      },
      "execution_count": null,
      "outputs": []
    },
    {
      "cell_type": "code",
      "source": [
        "# Menghitung Silhouette Score dari model clustering\n",
        "silhouette_avg = silhouette_score(X_scaled, cluster_labels)\n",
        "\n",
        "# Menampilkan Silhouette Score\n",
        "print(\"Silhouette Score:\", silhouette_avg)"
      ],
      "metadata": {
        "colab": {
          "base_uri": "https://localhost:8080/"
        },
        "id": "9GOGHjxdhL5k",
        "outputId": "f7c33a56-0050-49f5-cf01-7fdbdb1ebf37"
      },
      "execution_count": null,
      "outputs": [
        {
          "output_type": "stream",
          "name": "stdout",
          "text": [
            "Silhouette Score: 0.05830501834188593\n"
          ]
        }
      ]
    }
  ]
}